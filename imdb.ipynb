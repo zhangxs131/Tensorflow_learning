{
  "nbformat": 4,
  "nbformat_minor": 0,
  "metadata": {
    "colab": {
      "name": "imdb.ipynb",
      "provenance": [],
      "authorship_tag": "ABX9TyPaTRJyfm+3wiBST+GZKrSJ",
      "include_colab_link": true
    },
    "kernelspec": {
      "name": "python3",
      "display_name": "Python 3"
    },
    "language_info": {
      "name": "python"
    }
  },
  "cells": [
    {
      "cell_type": "markdown",
      "metadata": {
        "id": "view-in-github",
        "colab_type": "text"
      },
      "source": [
        "<a href=\"https://colab.research.google.com/github/zhangxs131/Tensorflow_learning/blob/main/imdb.ipynb\" target=\"_parent\"><img src=\"https://colab.research.google.com/assets/colab-badge.svg\" alt=\"Open In Colab\"/></a>"
      ]
    },
    {
      "cell_type": "markdown",
      "source": [
        "##文本分类任务\n",
        "\n",
        "数据集 keras自带的imdb,影评数据，二分类，pos，neg"
      ],
      "metadata": {
        "id": "h8xy852qcOxp"
      }
    },
    {
      "cell_type": "code",
      "source": [
        "import tensorflow as tf\n",
        "import numpy as np\n",
        "\n",
        "from tensorflow import keras"
      ],
      "metadata": {
        "id": "8iqYeAEZcq_Q"
      },
      "execution_count": 1,
      "outputs": []
    },
    {
      "cell_type": "code",
      "source": [
        "from keras.datasets import imdb\n",
        "(train_data,train_labels),(test_data,test_labels)=imdb.load_data(num_words=10000)\n",
        "print('训练集长度为',len(train_data))\n",
        "print(train_data[0])"
      ],
      "metadata": {
        "colab": {
          "base_uri": "https://localhost:8080/"
        },
        "id": "5qvSf1OKcsq7",
        "outputId": "5fedea90-b1f4-4a3f-fd5d-87f3e2afbac2"
      },
      "execution_count": 3,
      "outputs": [
        {
          "output_type": "stream",
          "name": "stdout",
          "text": [
            "Downloading data from https://storage.googleapis.com/tensorflow/tf-keras-datasets/imdb.npz\n",
            "17465344/17464789 [==============================] - 0s 0us/step\n",
            "17473536/17464789 [==============================] - 0s 0us/step\n",
            "训练集长度为 25000\n",
            "[1, 14, 22, 16, 43, 530, 973, 1622, 1385, 65, 458, 4468, 66, 3941, 4, 173, 36, 256, 5, 25, 100, 43, 838, 112, 50, 670, 2, 9, 35, 480, 284, 5, 150, 4, 172, 112, 167, 2, 336, 385, 39, 4, 172, 4536, 1111, 17, 546, 38, 13, 447, 4, 192, 50, 16, 6, 147, 2025, 19, 14, 22, 4, 1920, 4613, 469, 4, 22, 71, 87, 12, 16, 43, 530, 38, 76, 15, 13, 1247, 4, 22, 17, 515, 17, 12, 16, 626, 18, 2, 5, 62, 386, 12, 8, 316, 8, 106, 5, 4, 2223, 5244, 16, 480, 66, 3785, 33, 4, 130, 12, 16, 38, 619, 5, 25, 124, 51, 36, 135, 48, 25, 1415, 33, 6, 22, 12, 215, 28, 77, 52, 5, 14, 407, 16, 82, 2, 8, 4, 107, 117, 5952, 15, 256, 4, 2, 7, 3766, 5, 723, 36, 71, 43, 530, 476, 26, 400, 317, 46, 7, 4, 2, 1029, 13, 104, 88, 4, 381, 15, 297, 98, 32, 2071, 56, 26, 141, 6, 194, 7486, 18, 4, 226, 22, 21, 134, 476, 26, 480, 5, 144, 30, 5535, 18, 51, 36, 28, 224, 92, 25, 104, 4, 226, 65, 16, 38, 1334, 88, 12, 16, 283, 5, 16, 4472, 113, 103, 32, 15, 16, 5345, 19, 178, 32]\n"
          ]
        }
      ]
    },
    {
      "cell_type": "markdown",
      "source": [
        "#构建vocab"
      ],
      "metadata": {
        "id": "GKY0n052ddt2"
      }
    },
    {
      "cell_type": "code",
      "source": [
        "word_index=imdb.get_word_index()\n",
        "#由于原来word_index从1开始，这里后移3位即可加入4个specail_token\n",
        "word_index={k:(v+3) for k,v in word_index.items()}\n",
        "word_index['<PAD>']=0\n",
        "word_index['<START']=1\n",
        "word_index['<UNK>']=2\n",
        "word_index['<UNUSED>']=3\n",
        "\n",
        "\n",
        "index_word={v:k for k,v in word_index.items()}\n",
        "\n",
        "def decode_text(text):\n",
        "  return ' '.join([index_word.get(i,'?')for i in text])\n",
        "decode_text(train_data[0])"
      ],
      "metadata": {
        "colab": {
          "base_uri": "https://localhost:8080/",
          "height": 109
        },
        "id": "FcGM7jacdguj",
        "outputId": "8486c3cb-ba31-4a29-9c83-f7f272b46610"
      },
      "execution_count": 13,
      "outputs": [
        {
          "output_type": "execute_result",
          "data": {
            "text/plain": [
              "\"<START this film was just brilliant casting location scenery story direction everyone's really suited the part they played and you could just imagine being there robert <UNK> is an amazing actor and now the same being director <UNK> father came from the same scottish island as myself so i loved the fact there was a real connection with this film the witty remarks throughout the film were great it was just brilliant so much that i bought the film as soon as it was released for <UNK> and would recommend it to everyone to watch and the fly fishing was amazing really cried at the end it was so sad and you know what they say if you cry at a film it must have been good and this definitely was also <UNK> to the two little boy's that played the <UNK> of norman and paul they were just brilliant children are often left out of the <UNK> list i think because the stars that play them all grown up are such a big profile for the whole film but these children are amazing and should be praised for what they have done don't you think the whole story was so lovely because it was true and was someone's life after all that was shared with us all\""
            ],
            "application/vnd.google.colaboratory.intrinsic+json": {
              "type": "string"
            }
          },
          "metadata": {},
          "execution_count": 13
        }
      ]
    },
    {
      "cell_type": "code",
      "source": [
        "#padding\n",
        "train_data=keras.preprocessing.sequence.pad_sequences(train_data,value=word_index['<PAD>'],padding='post',maxlen=256)\n",
        "test_data=keras.preprocessing.sequence.pad_sequences(test_data,value=word_index['<PAD>'],padding='post',maxlen=256)"
      ],
      "metadata": {
        "id": "82PPRhS2gXJC"
      },
      "execution_count": 14,
      "outputs": []
    },
    {
      "cell_type": "code",
      "source": [
        "vocab_size=10000\n",
        "\n",
        "model=keras.Sequential([\n",
        "  keras.layers.Embedding(vocab_size,16),\n",
        "  keras.layers.GlobalAveragePooling1D(),\n",
        "  keras.layers.Dense(16,activation='relu'),\n",
        "  keras.layers.Dense(1,activation='sigmoid')\n",
        "])\n",
        "\n",
        "model.compile(\n",
        "    optimizer='adam',\n",
        "    loss='binary_crossentropy',\n",
        "    metrics=['accuracy']\n",
        ")\n",
        "\n",
        "x_val=train_data[:5000]\n",
        "x_train=train_data[5000:]\n",
        "\n",
        "y_val=train_labels[:5000]\n",
        "y_train=train_labels[5000:]\n",
        "\n",
        "history=model.fit(x_train,y_train,epochs=40,batch_size=512,validation_data=(x_val,y_val),verbose=1)"
      ],
      "metadata": {
        "id": "fHxC9aeogwNX",
        "outputId": "79cc88cc-55c4-43ad-bfa1-299f0e3930f3",
        "colab": {
          "base_uri": "https://localhost:8080/"
        }
      },
      "execution_count": 19,
      "outputs": [
        {
          "output_type": "stream",
          "name": "stdout",
          "text": [
            "Epoch 1/40\n",
            "40/40 [==============================] - 2s 25ms/step - loss: 0.6914 - accuracy: 0.5901 - val_loss: 0.6887 - val_accuracy: 0.6812\n",
            "Epoch 2/40\n",
            "40/40 [==============================] - 1s 22ms/step - loss: 0.6823 - accuracy: 0.6997 - val_loss: 0.6743 - val_accuracy: 0.7290\n",
            "Epoch 3/40\n",
            "40/40 [==============================] - 1s 21ms/step - loss: 0.6575 - accuracy: 0.7500 - val_loss: 0.6422 - val_accuracy: 0.7488\n",
            "Epoch 4/40\n",
            "40/40 [==============================] - 1s 21ms/step - loss: 0.6125 - accuracy: 0.7796 - val_loss: 0.5909 - val_accuracy: 0.7884\n",
            "Epoch 5/40\n",
            "40/40 [==============================] - 1s 20ms/step - loss: 0.5518 - accuracy: 0.8152 - val_loss: 0.5320 - val_accuracy: 0.8112\n",
            "Epoch 6/40\n",
            "40/40 [==============================] - 1s 28ms/step - loss: 0.4873 - accuracy: 0.8414 - val_loss: 0.4741 - val_accuracy: 0.8312\n",
            "Epoch 7/40\n",
            "40/40 [==============================] - 1s 21ms/step - loss: 0.4287 - accuracy: 0.8585 - val_loss: 0.4259 - val_accuracy: 0.8472\n",
            "Epoch 8/40\n",
            "40/40 [==============================] - 1s 21ms/step - loss: 0.3808 - accuracy: 0.8735 - val_loss: 0.3894 - val_accuracy: 0.8600\n",
            "Epoch 9/40\n",
            "40/40 [==============================] - 1s 19ms/step - loss: 0.3437 - accuracy: 0.8821 - val_loss: 0.3629 - val_accuracy: 0.8658\n",
            "Epoch 10/40\n",
            "40/40 [==============================] - 1s 17ms/step - loss: 0.3142 - accuracy: 0.8910 - val_loss: 0.3420 - val_accuracy: 0.8698\n",
            "Epoch 11/40\n",
            "40/40 [==============================] - 1s 20ms/step - loss: 0.2912 - accuracy: 0.8984 - val_loss: 0.3269 - val_accuracy: 0.8750\n",
            "Epoch 12/40\n",
            "40/40 [==============================] - 1s 18ms/step - loss: 0.2715 - accuracy: 0.9033 - val_loss: 0.3151 - val_accuracy: 0.8790\n",
            "Epoch 13/40\n",
            "40/40 [==============================] - 1s 16ms/step - loss: 0.2551 - accuracy: 0.9082 - val_loss: 0.3060 - val_accuracy: 0.8806\n",
            "Epoch 14/40\n",
            "40/40 [==============================] - 1s 16ms/step - loss: 0.2405 - accuracy: 0.9155 - val_loss: 0.2986 - val_accuracy: 0.8824\n",
            "Epoch 15/40\n",
            "40/40 [==============================] - 1s 15ms/step - loss: 0.2284 - accuracy: 0.9193 - val_loss: 0.2935 - val_accuracy: 0.8844\n",
            "Epoch 16/40\n",
            "40/40 [==============================] - 1s 16ms/step - loss: 0.2169 - accuracy: 0.9247 - val_loss: 0.2880 - val_accuracy: 0.8874\n",
            "Epoch 17/40\n",
            "40/40 [==============================] - 1s 27ms/step - loss: 0.2065 - accuracy: 0.9279 - val_loss: 0.2850 - val_accuracy: 0.8874\n",
            "Epoch 18/40\n",
            "40/40 [==============================] - 1s 16ms/step - loss: 0.1974 - accuracy: 0.9323 - val_loss: 0.2825 - val_accuracy: 0.8882\n",
            "Epoch 19/40\n",
            "40/40 [==============================] - 1s 17ms/step - loss: 0.1888 - accuracy: 0.9349 - val_loss: 0.2810 - val_accuracy: 0.8894\n",
            "Epoch 20/40\n",
            "40/40 [==============================] - 1s 16ms/step - loss: 0.1812 - accuracy: 0.9366 - val_loss: 0.2791 - val_accuracy: 0.8900\n",
            "Epoch 21/40\n",
            "40/40 [==============================] - 1s 20ms/step - loss: 0.1733 - accuracy: 0.9406 - val_loss: 0.2781 - val_accuracy: 0.8924\n",
            "Epoch 22/40\n",
            "40/40 [==============================] - 1s 21ms/step - loss: 0.1666 - accuracy: 0.9437 - val_loss: 0.2790 - val_accuracy: 0.8916\n",
            "Epoch 23/40\n",
            "40/40 [==============================] - 1s 19ms/step - loss: 0.1603 - accuracy: 0.9459 - val_loss: 0.2795 - val_accuracy: 0.8912\n",
            "Epoch 24/40\n",
            "40/40 [==============================] - 1s 16ms/step - loss: 0.1545 - accuracy: 0.9485 - val_loss: 0.2794 - val_accuracy: 0.8922\n",
            "Epoch 25/40\n",
            "40/40 [==============================] - 1s 21ms/step - loss: 0.1490 - accuracy: 0.9508 - val_loss: 0.2801 - val_accuracy: 0.8912\n",
            "Epoch 26/40\n",
            "40/40 [==============================] - 1s 18ms/step - loss: 0.1429 - accuracy: 0.9530 - val_loss: 0.2807 - val_accuracy: 0.8914\n",
            "Epoch 27/40\n",
            "40/40 [==============================] - 1s 16ms/step - loss: 0.1385 - accuracy: 0.9548 - val_loss: 0.2831 - val_accuracy: 0.8908\n",
            "Epoch 28/40\n",
            "40/40 [==============================] - 1s 16ms/step - loss: 0.1328 - accuracy: 0.9574 - val_loss: 0.2850 - val_accuracy: 0.8906\n",
            "Epoch 29/40\n",
            "40/40 [==============================] - 1s 18ms/step - loss: 0.1282 - accuracy: 0.9585 - val_loss: 0.2870 - val_accuracy: 0.8912\n",
            "Epoch 30/40\n",
            "40/40 [==============================] - 1s 20ms/step - loss: 0.1239 - accuracy: 0.9607 - val_loss: 0.2928 - val_accuracy: 0.8872\n",
            "Epoch 31/40\n",
            "40/40 [==============================] - 1s 20ms/step - loss: 0.1212 - accuracy: 0.9612 - val_loss: 0.2911 - val_accuracy: 0.8906\n",
            "Epoch 32/40\n",
            "40/40 [==============================] - 1s 16ms/step - loss: 0.1152 - accuracy: 0.9646 - val_loss: 0.2941 - val_accuracy: 0.8896\n",
            "Epoch 33/40\n",
            "40/40 [==============================] - 1s 18ms/step - loss: 0.1113 - accuracy: 0.9658 - val_loss: 0.2968 - val_accuracy: 0.8880\n",
            "Epoch 34/40\n",
            "40/40 [==============================] - 1s 20ms/step - loss: 0.1080 - accuracy: 0.9678 - val_loss: 0.3012 - val_accuracy: 0.8886\n",
            "Epoch 35/40\n",
            "40/40 [==============================] - 1s 21ms/step - loss: 0.1041 - accuracy: 0.9682 - val_loss: 0.3029 - val_accuracy: 0.8898\n",
            "Epoch 36/40\n",
            "40/40 [==============================] - 1s 21ms/step - loss: 0.1003 - accuracy: 0.9701 - val_loss: 0.3073 - val_accuracy: 0.8880\n",
            "Epoch 37/40\n",
            "40/40 [==============================] - 1s 21ms/step - loss: 0.0980 - accuracy: 0.9711 - val_loss: 0.3104 - val_accuracy: 0.8882\n",
            "Epoch 38/40\n",
            "40/40 [==============================] - 1s 20ms/step - loss: 0.0938 - accuracy: 0.9725 - val_loss: 0.3134 - val_accuracy: 0.8888\n",
            "Epoch 39/40\n",
            "40/40 [==============================] - 1s 23ms/step - loss: 0.0905 - accuracy: 0.9746 - val_loss: 0.3172 - val_accuracy: 0.8878\n",
            "Epoch 40/40\n",
            "40/40 [==============================] - 1s 17ms/step - loss: 0.0876 - accuracy: 0.9754 - val_loss: 0.3221 - val_accuracy: 0.8868\n"
          ]
        }
      ]
    },
    {
      "cell_type": "code",
      "source": [
        "result=model.evaluate(test_data,test_labels,verbose=2)\n",
        "print(result)"
      ],
      "metadata": {
        "id": "wWAdzRRcijUo",
        "outputId": "9984f38b-7dee-4ab1-c415-ee9977c75ecd",
        "colab": {
          "base_uri": "https://localhost:8080/"
        }
      },
      "execution_count": 20,
      "outputs": [
        {
          "output_type": "stream",
          "name": "stdout",
          "text": [
            "782/782 - 1s - loss: 0.3575 - accuracy: 0.8713 - 1s/epoch - 1ms/step\n",
            "[0.35746538639068604, 0.8713200092315674]\n"
          ]
        }
      ]
    },
    {
      "cell_type": "markdown",
      "source": [
        "##plt显示loss和acc变化"
      ],
      "metadata": {
        "id": "cTxPF1XQjIHd"
      }
    },
    {
      "cell_type": "code",
      "source": [
        "history_dict=history.history\n",
        "history_dict.keys()"
      ],
      "metadata": {
        "id": "7vdhfQdJjMO5",
        "outputId": "49d93ec7-865f-4920-b64b-6a3894b9d599",
        "colab": {
          "base_uri": "https://localhost:8080/"
        }
      },
      "execution_count": 22,
      "outputs": [
        {
          "output_type": "execute_result",
          "data": {
            "text/plain": [
              "dict_keys(['loss', 'accuracy', 'val_loss', 'val_accuracy'])"
            ]
          },
          "metadata": {},
          "execution_count": 22
        }
      ]
    },
    {
      "cell_type": "code",
      "source": [
        "import matplotlib.pyplot as plt\n",
        "\n",
        "epochs=range(1,len(history_dict['accuracy'])+1)\n",
        "\n",
        "plt.plot(epochs,history_dict['loss'],'bo',label='Training_loss')\n",
        "plt.plot(epochs,history_dict['val_loss'],label='Val_loss')\n",
        "plt.title('Training and validation loss')\n",
        "plt.xlabel('Epochs')\n",
        "plt.ylabel('Loss')\n",
        "plt.legend()\n",
        "\n",
        "plt.show()"
      ],
      "metadata": {
        "id": "bQlye_hUjYl7",
        "outputId": "2722c0ff-efef-41c7-d387-58187e1cb81e",
        "colab": {
          "base_uri": "https://localhost:8080/",
          "height": 295
        }
      },
      "execution_count": 25,
      "outputs": [
        {
          "output_type": "display_data",
          "data": {
            "text/plain": [
              "<Figure size 432x288 with 1 Axes>"
            ],
            "image/png": "[encoded data removed]"
          },
          "metadata": {
            "needs_background": "light"
          }
        }
      ]
    },
    {
      "cell_type": "code",
      "source": [
        "plt.clf() #清除数据\n",
        "\n",
        "plt.plot(epochs,history_dict['accuracy'],'bo',label='Training acc')\n",
        "plt.plot(epochs,history_dict['val_accuracy'],'b',label='Val acc')\n",
        "plt.title('Training and validation Acc')\n",
        "plt.xlabel('Epochs')\n",
        "plt.ylabel('Accuracy')\n",
        "plt.legend()\n",
        "\n",
        "plt.show()"
      ],
      "metadata": {
        "id": "OQWCj4aXkPKn",
        "outputId": "6896614b-f612-4740-cd99-63d889b5847a",
        "colab": {
          "base_uri": "https://localhost:8080/",
          "height": 295
        }
      },
      "execution_count": 26,
      "outputs": [
        {
          "output_type": "display_data",
          "data": {
            "text/plain": [
              "<Figure size 432x288 with 1 Axes>"
            ],
            "image/png": "[encoded data removed]"
          },
          "metadata": {
            "needs_background": "light"
          }
        }
      ]
    }
  ]
}