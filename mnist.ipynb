{
  "nbformat": 4,
  "nbformat_minor": 0,
  "metadata": {
    "colab": {
      "name": "mnist.ipynb",
      "provenance": [],
      "authorship_tag": "ABX9TyM1CZzwPCmnDuuqttHH8SM6",
      "include_colab_link": true
    },
    "kernelspec": {
      "name": "python3",
      "display_name": "Python 3"
    },
    "language_info": {
      "name": "python"
    },
    "accelerator": "GPU"
  },
  "cells": [
    {
      "cell_type": "markdown",
      "metadata": {
        "id": "view-in-github",
        "colab_type": "text"
      },
      "source": [
        "<a href=\"https://colab.research.google.com/github/zhangxs131/Tensorflow_learning/blob/main/mnist.ipynb\" target=\"_parent\"><img src=\"https://colab.research.google.com/assets/colab-badge.svg\" alt=\"Open In Colab\"/></a>"
      ]
    },
    {
      "cell_type": "markdown",
      "source": [
        "#面向初学者的keras\n",
        "使用model.compile和model.fit实现训练"
      ],
      "metadata": {
        "id": "_lcsCOF9Fa5b"
      }
    },
    {
      "cell_type": "code",
      "execution_count": 1,
      "metadata": {
        "colab": {
          "base_uri": "https://localhost:8080/"
        },
        "id": "FfrctzUbDBZR",
        "outputId": "74d5373c-8124-4a6c-d760-7e4c6e8b08e1"
      },
      "outputs": [
        {
          "output_type": "stream",
          "name": "stdout",
          "text": [
            "Downloading data from https://storage.googleapis.com/tensorflow/tf-keras-datasets/mnist.npz\n",
            "11493376/11490434 [==============================] - 0s 0us/step\n",
            "11501568/11490434 [==============================] - 0s 0us/step\n"
          ]
        },
        {
          "output_type": "execute_result",
          "data": {
            "text/plain": [
              "(60000, 28, 28)"
            ]
          },
          "metadata": {},
          "execution_count": 1
        }
      ],
      "source": [
        "import tensorflow as tf\n",
        "\n",
        "mnist=tf.keras.datasets.mnist\n",
        "(x_train,y_train),(x_test,y_test)=mnist.load_data()\n",
        "x_train,x_test=x_train/255.0,y_train/255.0 #归一化\n",
        "x_train.shape"
      ]
    },
    {
      "cell_type": "code",
      "source": [
        "model=tf.keras.models.Sequential([\n",
        "  tf.keras.layers.Flatten(input_shape=(28,28)),\n",
        "  tf.keras.layers.Dense(128,activation='relu'),\n",
        "  tf.keras.layers.Dropout(0.1),\n",
        "  tf.keras.layers.Dense(10,activation='softmax')\n",
        "])\n",
        "\n",
        "model.compile(\n",
        "    optimizer='adam',\n",
        "    loss='sparse_categorical_crossentropy',\n",
        "    metrics=['accuracy']\n",
        ")"
      ],
      "metadata": {
        "id": "hN8Pth3DD2sX"
      },
      "execution_count": 5,
      "outputs": []
    },
    {
      "cell_type": "code",
      "source": [
        "model.fit(x_train,y_train,epochs=5)"
      ],
      "metadata": {
        "colab": {
          "base_uri": "https://localhost:8080/"
        },
        "id": "pbPEniKAFBHn",
        "outputId": "e4421cce-22c6-41b1-8488-ac854aa5fa1c"
      },
      "execution_count": 6,
      "outputs": [
        {
          "output_type": "stream",
          "name": "stdout",
          "text": [
            "Epoch 1/5\n",
            "1875/1875 [==============================] - 8s 3ms/step - loss: 0.2765 - accuracy: 0.9200\n",
            "Epoch 2/5\n",
            "1875/1875 [==============================] - 5s 3ms/step - loss: 0.1279 - accuracy: 0.9610\n",
            "Epoch 3/5\n",
            "1875/1875 [==============================] - 5s 3ms/step - loss: 0.0925 - accuracy: 0.9722\n",
            "Epoch 4/5\n",
            "1875/1875 [==============================] - 5s 3ms/step - loss: 0.0721 - accuracy: 0.9780\n",
            "Epoch 5/5\n",
            "1875/1875 [==============================] - 5s 3ms/step - loss: 0.0584 - accuracy: 0.9818\n"
          ]
        },
        {
          "output_type": "execute_result",
          "data": {
            "text/plain": [
              "<keras.callbacks.History at 0x7fc5604bb750>"
            ]
          },
          "metadata": {},
          "execution_count": 6
        }
      ]
    },
    {
      "cell_type": "markdown",
      "source": [
        "#针对专业人员使用keras\n",
        "\n",
        "主要就是不用Sequential而是实现Class 实现model"
      ],
      "metadata": {
        "id": "Iv2sDKdwFmDG"
      }
    },
    {
      "cell_type": "code",
      "source": [
        "from tensorflow.keras.layers import Dense,Flatten,Conv2D\n",
        "from tensorflow.keras import Model\n",
        "\n",
        "mnist = tf.keras.datasets.mnist\n",
        "\n",
        "(x_train, y_train), (x_test, y_test) = mnist.load_data()\n",
        "x_train, x_test = x_train / 255.0, x_test / 255.0\n",
        "\n",
        "print(x_train.shape,x_test.shape)\n",
        "# Add a channels dimension\n",
        "x_train = x_train[..., tf.newaxis].astype(\"float32\")\n",
        "x_test = x_test[..., tf.newaxis].astype(\"float32\")\n",
        "\n",
        "#增加一个channel维度\n",
        "\n",
        "train_ds = tf.data.Dataset.from_tensor_slices(\n",
        "    (x_train, y_train)).shuffle(10000).batch(32)\n",
        "print(x_train.shape,x_test.shape)\n",
        "test_ds = tf.data.Dataset.from_tensor_slices((x_test, y_test)).batch(32)"
      ],
      "metadata": {
        "colab": {
          "base_uri": "https://localhost:8080/"
        },
        "id": "vL7dJPJgGPeW",
        "outputId": "970570f9-e311-43d4-e36a-6196baaf8d70"
      },
      "execution_count": 41,
      "outputs": [
        {
          "output_type": "stream",
          "name": "stdout",
          "text": [
            "(60000, 28, 28) (10000, 28, 28)\n",
            "(60000, 28, 28, 1) (10000, 28, 28, 1)\n"
          ]
        }
      ]
    },
    {
      "cell_type": "code",
      "source": [
        "class MyModel(Model):\n",
        "  def __init__(self):\n",
        "    super(MyModel,self).__init__()\n",
        "    self.conv1=Conv2D(32,3,activation='relu')\n",
        "    self.flatten=Flatten()\n",
        "    self.d1=Dense(128,activation='relu')\n",
        "    self.d2=Dense(10)\n",
        "\n",
        "\n",
        "  def call(self,x):\n",
        "    x=self.conv1(x)\n",
        "    x=self.flatten(x)\n",
        "    x=self.d1(x)\n",
        "    return self.d2(x)\n",
        "\n",
        "model_2=MyModel()"
      ],
      "metadata": {
        "id": "eG9L-yB3JRpV"
      },
      "execution_count": 42,
      "outputs": []
    },
    {
      "cell_type": "code",
      "source": [
        "loss_object=tf.keras.losses.SparseCategoricalCrossentropy(from_logits=True)\n",
        "\n",
        "optimizer=tf.keras.optimizers.Adam()"
      ],
      "metadata": {
        "id": "16MX1QY0JOK2"
      },
      "execution_count": 43,
      "outputs": []
    },
    {
      "cell_type": "code",
      "source": [
        "train_loss=tf.keras.metrics.Mean(name='train_loss')\n",
        "train_acc=tf.keras.metrics.SparseCategoricalAccuracy(name='train_accuracy')\n",
        "\n",
        "test_loss=tf.keras.metrics.Mean(name='test_loss')\n",
        "test_acc=tf.keras.metrics.SparseCategoricalAccuracy(name='test_accuracy')"
      ],
      "metadata": {
        "id": "WcIrfPGFKZ6-"
      },
      "execution_count": 44,
      "outputs": []
    },
    {
      "cell_type": "code",
      "source": [
        "#使用tf.GradientTape训练模型\n",
        "\n",
        "def train_step(images,labels):\n",
        "  with tf.GradientTape() as tape:\n",
        "    predictions=model_2(images,training=True)\n",
        "    loss=loss_object(labels,predictions)\n",
        "  gradients=tape.gradient(loss,model_2.trainable_variables)\n",
        "  optimizer.apply_gradients(zip(gradients,model_2.trainable_variables))\n",
        "\n",
        "  train_loss(loss)\n",
        "  train_acc(labels,predictions)\n",
        "\n",
        "def test_step(images,labels):\n",
        "  predictions=model_2(images,training=False)\n",
        "  t_loss=loss_object(labels,predictions)\n",
        "\n",
        "  test_loss(t_loss)\n",
        "  test_acc(labels,predictions)\n"
      ],
      "metadata": {
        "id": "wz8QgMcwKzLO"
      },
      "execution_count": 45,
      "outputs": []
    },
    {
      "cell_type": "code",
      "source": [
        "#训练和验证\n",
        "Epochs=5\n",
        "\n",
        "for epoch in range(Epochs):\n",
        "  train_loss.reset_states()\n",
        "  train_acc.reset_states()\n",
        "  test_loss.reset_states()\n",
        "  test_acc.reset_states()\n",
        "\n",
        "  for images,labels in train_ds:\n",
        "    train_step(images,labels)\n",
        "\n",
        "  for images,labels in test_ds:\n",
        "    test_step(images,labels)\n",
        "\n",
        "  print(\n",
        "    f'Epoch {epoch + 1}, '\n",
        "    f'Loss: {train_loss.result()}, '\n",
        "    f'Accuracy: {train_acc.result() * 100}, '\n",
        "    f'Test Loss: {test_loss.result()}, '\n",
        "    f'Test Accuracy: {test_acc.result() * 100}'\n",
        "  )"
      ],
      "metadata": {
        "colab": {
          "base_uri": "https://localhost:8080/"
        },
        "id": "oJhk4fDxLxvu",
        "outputId": "7ac0b699-9ac9-4c4e-cd4e-dad48e9ccf59"
      },
      "execution_count": 46,
      "outputs": [
        {
          "output_type": "stream",
          "name": "stdout",
          "text": [
            "Epoch 1, Loss: 0.13128912448883057, Accuracy: 96.07833862304688, Test Loss: 0.07249544560909271, Test Accuracy: 97.58999633789062\n",
            "Epoch 2, Loss: 0.041752591729164124, Accuracy: 98.68500518798828, Test Loss: 0.051359452307224274, Test Accuracy: 98.16999816894531\n",
            "Epoch 3, Loss: 0.02403854951262474, Accuracy: 99.20999908447266, Test Loss: 0.05412775278091431, Test Accuracy: 98.38999938964844\n",
            "Epoch 4, Loss: 0.013445992954075336, Accuracy: 99.56500244140625, Test Loss: 0.05556425452232361, Test Accuracy: 98.4000015258789\n",
            "Epoch 5, Loss: 0.01054174080491066, Accuracy: 99.63666534423828, Test Loss: 0.05971650779247284, Test Accuracy: 98.31999969482422\n"
          ]
        }
      ]
    },
    {
      "cell_type": "markdown",
      "source": [
        "#总结\n",
        "\n",
        "上面keras训练比较快捷方便，但model还是class构建熟悉一些吧，然后模型上，上面的直接flatten，然后MLP进行分类，下面的简单用了个3*3的卷积，然后进行展平，MLP分类\n",
        "\n"
      ],
      "metadata": {
        "id": "77v1lbO_Pfj_"
      }
    }
  ]
}